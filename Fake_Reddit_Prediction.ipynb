{
 "cells": [
  {
   "cell_type": "markdown",
   "metadata": {
    "id": "gpAcqd7nh3zd"
   },
   "source": [
    "# **Problem Formulation** \n",
    "We want to find and predict the **Reddit Fake Post Detection** given the other features .\n",
    "\n",
    "False information on the Internet has caused many social problems due to the raise of social network and its role in different domains such as politics. In this assignment, we are going to predict if a specific reddit post is fake news or not, by looking at its title.\n",
    "\n",
    "\n",
    "\n",
    "*   **Input** :- Comments as a text.\n",
    "\n",
    "The data is raw (contains various forms of words)\n",
    "*   **Output** :- Predected Faking for posts.\n",
    "\n",
    "\n",
    "*   **Data Mining Function** :- Manipulating ,analyzing , preprocessing the data. \n",
    "*   **Challenges** ▶ : \n",
    "    1.   Nan cells.\n",
    "    2.   Unused and unimportnat column.\n",
    "    3.   Convert the dtype.\n",
    "    4.   convert strings by One Hot encoding.\n",
    "    5.   Handling unbalanced data by over sampling\n",
    "*   **Impact** ▶ : Predicting the Fake posts that will lead to a successful social life.\n",
    "\n",
    "\n",
    "\n",
    "Copyrights 2022 Master of science - Queens University - by/Mahmoud Khorshed\n"
   ]
  },
  {
   "cell_type": "markdown",
   "metadata": {
    "id": "20ee0d9a"
   },
   "source": [
    "# 1- import libraries and Data"
   ]
  },
  {
   "cell_type": "code",
   "execution_count": 10,
   "metadata": {
    "id": "1AIj4g54zTG1"
   },
   "outputs": [
    {
     "data": {
      "text/html": [
       "\n",
       "    <div class=\"bk-root\">\n",
       "        <a href=\"https://bokeh.org\" target=\"_blank\" class=\"bk-logo bk-logo-small bk-logo-notebook\"></a>\n",
       "        <span id=\"1003\">Loading BokehJS ...</span>\n",
       "    </div>"
      ]
     },
     "metadata": {},
     "output_type": "display_data"
    },
    {
     "data": {
      "application/javascript": "\n(function(root) {\n  function now() {\n    return new Date();\n  }\n\n  const force = true;\n\n  if (typeof root._bokeh_onload_callbacks === \"undefined\" || force === true) {\n    root._bokeh_onload_callbacks = [];\n    root._bokeh_is_loading = undefined;\n  }\n\n  const JS_MIME_TYPE = 'application/javascript';\n  const HTML_MIME_TYPE = 'text/html';\n  const EXEC_MIME_TYPE = 'application/vnd.bokehjs_exec.v0+json';\n  const CLASS_NAME = 'output_bokeh rendered_html';\n\n  /**\n   * Render data to the DOM node\n   */\n  function render(props, node) {\n    const script = document.createElement(\"script\");\n    node.appendChild(script);\n  }\n\n  /**\n   * Handle when an output is cleared or removed\n   */\n  function handleClearOutput(event, handle) {\n    const cell = handle.cell;\n\n    const id = cell.output_area._bokeh_element_id;\n    const server_id = cell.output_area._bokeh_server_id;\n    // Clean up Bokeh references\n    if (id != null && id in Bokeh.index) {\n      Bokeh.index[id].model.document.clear();\n      delete Bokeh.index[id];\n    }\n\n    if (server_id !== undefined) {\n      // Clean up Bokeh references\n      const cmd_clean = \"from bokeh.io.state import curstate; print(curstate().uuid_to_server['\" + server_id + \"'].get_sessions()[0].document.roots[0]._id)\";\n      cell.notebook.kernel.execute(cmd_clean, {\n        iopub: {\n          output: function(msg) {\n            const id = msg.content.text.trim();\n            if (id in Bokeh.index) {\n              Bokeh.index[id].model.document.clear();\n              delete Bokeh.index[id];\n            }\n          }\n        }\n      });\n      // Destroy server and session\n      const cmd_destroy = \"import bokeh.io.notebook as ion; ion.destroy_server('\" + server_id + \"')\";\n      cell.notebook.kernel.execute(cmd_destroy);\n    }\n  }\n\n  /**\n   * Handle when a new output is added\n   */\n  function handleAddOutput(event, handle) {\n    const output_area = handle.output_area;\n    const output = handle.output;\n\n    // limit handleAddOutput to display_data with EXEC_MIME_TYPE content only\n    if ((output.output_type != \"display_data\") || (!Object.prototype.hasOwnProperty.call(output.data, EXEC_MIME_TYPE))) {\n      return\n    }\n\n    const toinsert = output_area.element.find(\".\" + CLASS_NAME.split(' ')[0]);\n\n    if (output.metadata[EXEC_MIME_TYPE][\"id\"] !== undefined) {\n      toinsert[toinsert.length - 1].firstChild.textContent = output.data[JS_MIME_TYPE];\n      // store reference to embed id on output_area\n      output_area._bokeh_element_id = output.metadata[EXEC_MIME_TYPE][\"id\"];\n    }\n    if (output.metadata[EXEC_MIME_TYPE][\"server_id\"] !== undefined) {\n      const bk_div = document.createElement(\"div\");\n      bk_div.innerHTML = output.data[HTML_MIME_TYPE];\n      const script_attrs = bk_div.children[0].attributes;\n      for (let i = 0; i < script_attrs.length; i++) {\n        toinsert[toinsert.length - 1].firstChild.setAttribute(script_attrs[i].name, script_attrs[i].value);\n        toinsert[toinsert.length - 1].firstChild.textContent = bk_div.children[0].textContent\n      }\n      // store reference to server id on output_area\n      output_area._bokeh_server_id = output.metadata[EXEC_MIME_TYPE][\"server_id\"];\n    }\n  }\n\n  function register_renderer(events, OutputArea) {\n\n    function append_mime(data, metadata, element) {\n      // create a DOM node to render to\n      const toinsert = this.create_output_subarea(\n        metadata,\n        CLASS_NAME,\n        EXEC_MIME_TYPE\n      );\n      this.keyboard_manager.register_events(toinsert);\n      // Render to node\n      const props = {data: data, metadata: metadata[EXEC_MIME_TYPE]};\n      render(props, toinsert[toinsert.length - 1]);\n      element.append(toinsert);\n      return toinsert\n    }\n\n    /* Handle when an output is cleared or removed */\n    events.on('clear_output.CodeCell', handleClearOutput);\n    events.on('delete.Cell', handleClearOutput);\n\n    /* Handle when a new output is added */\n    events.on('output_added.OutputArea', handleAddOutput);\n\n    /**\n     * Register the mime type and append_mime function with output_area\n     */\n    OutputArea.prototype.register_mime_type(EXEC_MIME_TYPE, append_mime, {\n      /* Is output safe? */\n      safe: true,\n      /* Index of renderer in `output_area.display_order` */\n      index: 0\n    });\n  }\n\n  // register the mime type if in Jupyter Notebook environment and previously unregistered\n  if (root.Jupyter !== undefined) {\n    const events = require('base/js/events');\n    const OutputArea = require('notebook/js/outputarea').OutputArea;\n\n    if (OutputArea.prototype.mime_types().indexOf(EXEC_MIME_TYPE) == -1) {\n      register_renderer(events, OutputArea);\n    }\n  }\n\n  \n  if (typeof (root._bokeh_timeout) === \"undefined\" || force === true) {\n    root._bokeh_timeout = Date.now() + 5000;\n    root._bokeh_failed_load = false;\n  }\n\n  const NB_LOAD_WARNING = {'data': {'text/html':\n     \"<div style='background-color: #fdd'>\\n\"+\n     \"<p>\\n\"+\n     \"BokehJS does not appear to have successfully loaded. If loading BokehJS from CDN, this \\n\"+\n     \"may be due to a slow or bad network connection. Possible fixes:\\n\"+\n     \"</p>\\n\"+\n     \"<ul>\\n\"+\n     \"<li>re-rerun `output_notebook()` to attempt to load from CDN again, or</li>\\n\"+\n     \"<li>use INLINE resources instead, as so:</li>\\n\"+\n     \"</ul>\\n\"+\n     \"<code>\\n\"+\n     \"from bokeh.resources import INLINE\\n\"+\n     \"output_notebook(resources=INLINE)\\n\"+\n     \"</code>\\n\"+\n     \"</div>\"}};\n\n  function display_loaded() {\n    const el = document.getElementById(\"1003\");\n    if (el != null) {\n      el.textContent = \"BokehJS is loading...\";\n    }\n    if (root.Bokeh !== undefined) {\n      if (el != null) {\n        el.textContent = \"BokehJS \" + root.Bokeh.version + \" successfully loaded.\";\n      }\n    } else if (Date.now() < root._bokeh_timeout) {\n      setTimeout(display_loaded, 100)\n    }\n  }\n\n\n  function run_callbacks() {\n    try {\n      root._bokeh_onload_callbacks.forEach(function(callback) {\n        if (callback != null)\n          callback();\n      });\n    } finally {\n      delete root._bokeh_onload_callbacks\n    }\n    console.debug(\"Bokeh: all callbacks have finished\");\n  }\n\n  function load_libs(css_urls, js_urls, callback) {\n    if (css_urls == null) css_urls = [];\n    if (js_urls == null) js_urls = [];\n\n    root._bokeh_onload_callbacks.push(callback);\n    if (root._bokeh_is_loading > 0) {\n      console.debug(\"Bokeh: BokehJS is being loaded, scheduling callback at\", now());\n      return null;\n    }\n    if (js_urls == null || js_urls.length === 0) {\n      run_callbacks();\n      return null;\n    }\n    console.debug(\"Bokeh: BokehJS not loaded, scheduling load and callback at\", now());\n    root._bokeh_is_loading = css_urls.length + js_urls.length;\n\n    function on_load() {\n      root._bokeh_is_loading--;\n      if (root._bokeh_is_loading === 0) {\n        console.debug(\"Bokeh: all BokehJS libraries/stylesheets loaded\");\n        run_callbacks()\n      }\n    }\n\n    function on_error(url) {\n      console.error(\"failed to load \" + url);\n    }\n\n    for (let i = 0; i < css_urls.length; i++) {\n      const url = css_urls[i];\n      const element = document.createElement(\"link\");\n      element.onload = on_load;\n      element.onerror = on_error.bind(null, url);\n      element.rel = \"stylesheet\";\n      element.type = \"text/css\";\n      element.href = url;\n      console.debug(\"Bokeh: injecting link tag for BokehJS stylesheet: \", url);\n      document.body.appendChild(element);\n    }\n\n    for (let i = 0; i < js_urls.length; i++) {\n      const url = js_urls[i];\n      const element = document.createElement('script');\n      element.onload = on_load;\n      element.onerror = on_error.bind(null, url);\n      element.async = false;\n      element.src = url;\n      console.debug(\"Bokeh: injecting script tag for BokehJS library: \", url);\n      document.head.appendChild(element);\n    }\n  };\n\n  function inject_raw_css(css) {\n    const element = document.createElement(\"style\");\n    element.appendChild(document.createTextNode(css));\n    document.body.appendChild(element);\n  }\n\n  \n  const js_urls = [\"https://cdn.bokeh.org/bokeh/release/bokeh-2.4.1.min.js\", \"https://cdn.bokeh.org/bokeh/release/bokeh-gl-2.4.1.min.js\", \"https://cdn.bokeh.org/bokeh/release/bokeh-widgets-2.4.1.min.js\", \"https://cdn.bokeh.org/bokeh/release/bokeh-tables-2.4.1.min.js\", \"https://cdn.bokeh.org/bokeh/release/bokeh-mathjax-2.4.1.min.js\", \"https://unpkg.com/@holoviz/panel@0.12.6/dist/panel.min.js\"];\n  const css_urls = [];\n  \n\n  const inline_js = [\n    function(Bokeh) {\n      Bokeh.set_log_level(\"info\");\n    },\n    function(Bokeh) {\n    \n    \n    }\n  ];\n\n  function run_inline_js() {\n    \n    if (root.Bokeh !== undefined || force === true) {\n      \n    for (let i = 0; i < inline_js.length; i++) {\n      inline_js[i].call(root, root.Bokeh);\n    }\n    if (force === true) {\n        display_loaded();\n      }} else if (Date.now() < root._bokeh_timeout) {\n      setTimeout(run_inline_js, 100);\n    } else if (!root._bokeh_failed_load) {\n      console.log(\"Bokeh: BokehJS failed to load within specified timeout.\");\n      root._bokeh_failed_load = true;\n    } else if (force !== true) {\n      const cell = $(document.getElementById(\"1003\")).parents('.cell').data().cell;\n      cell.output_area.append_execute_result(NB_LOAD_WARNING)\n    }\n\n  }\n\n  if (root._bokeh_is_loading === 0) {\n    console.debug(\"Bokeh: BokehJS loaded, going straight to plotting\");\n    run_inline_js();\n  } else {\n    load_libs(css_urls, js_urls, function() {\n      console.debug(\"Bokeh: BokehJS plotting callback run at\", now());\n      run_inline_js();\n    });\n  }\n}(window));",
      "application/vnd.bokehjs_load.v0+json": ""
     },
     "metadata": {},
     "output_type": "display_data"
    }
   ],
   "source": [
    "import numpy as np # linear algebra\n",
    "import pandas as pd # data processing, CSV file I/O (e.g. pd.read_csv)\n",
    "import seaborn as sns # statistical data visualization\n",
    "sns.set()\n",
    "import matplotlib.pyplot as plt # data visualization\n",
    "%matplotlib inline\n",
    "\n",
    "from time import time\n",
    "from sklearn.pipeline import make_pipeline\n",
    "from sklearn.pipeline import Pipeline\n",
    "from sklearn.model_selection import KFold,train_test_split,cross_val_score,cross_val_predict\n",
    "from sklearn.metrics import classification_report,f1_score ,roc_auc_score\n",
    "import re\n",
    "\n",
    "#Grid Search\n",
    "from sklearn.preprocessing import StandardScaler , OneHotEncoder\n",
    "from sklearn.model_selection import GridSearchCV ,RandomizedSearchCV\n",
    "from sklearn.experimental import enable_halving_search_cv  # noqa\n",
    "from sklearn.model_selection import HalvingGridSearchCV\n",
    "\n",
    "\n",
    "\n",
    "#Models \n",
    "from sklearn.svm import SVC\n",
    "from sklearn.svm import LinearSVC\n",
    "from sklearn.tree import DecisionTreeClassifier \n",
    "from sklearn import tree\n",
    "from sklearn.naive_bayes import GaussianNB\n",
    "from sklearn.neighbors import KNeighborsClassifier \n",
    "from sklearn.ensemble import RandomForestClassifier\n",
    "from sklearn.ensemble import AdaBoostClassifier\n",
    "from sklearn.ensemble import GradientBoostingClassifier\n",
    "from sklearn.linear_model import LogisticRegression\n",
    "from xgboost.sklearn import XGBClassifier\n",
    "\n",
    "from sklearn.neural_network import MLPClassifier\n",
    "#NLP\n",
    "\n",
    "import re\n",
    "import pickle\n",
    "import holoviews as hv\n",
    "import nltk \n",
    "from bokeh.io import output_notebook\n",
    "output_notebook()\n",
    "from pathlib import Path\n",
    "\n",
    "\n",
    "# some seeting for pandas and hvplot\n",
    "\n",
    "pd.options.display.max_columns = 100\n",
    "pd.options.display.max_rows = 300\n",
    "pd.options.display.max_colwidth = 100\n",
    "np.set_printoptions(threshold=2000)\n",
    "\n",
    "from sklearn.feature_extraction.text import TfidfVectorizer,CountVectorizer\n",
    "from nltk.stem.snowball import SnowballStemmer\n",
    "from nltk.tokenize import word_tokenize\n",
    "from nltk.corpus import stopwords\n",
    "\n",
    "from bokeh.models import NumeralTickFormatter\n"
   ]
  },
  {
   "cell_type": "markdown",
   "metadata": {
    "id": "b415026b"
   },
   "source": [
    "## 1.2 - load Data"
   ]
  },
  {
   "cell_type": "markdown",
   "metadata": {
    "id": "SSdC6PZ9qmtC"
   },
   "source": [
    "### install kaggle and get token Kaggle "
   ]
  },
  {
   "cell_type": "code",
   "execution_count": 11,
   "metadata": {
    "colab": {
     "base_uri": "https://localhost:8080/"
    },
    "id": "liw9fCdFd83L",
    "outputId": "b599e9dd-3b9b-45d3-9b92-82515619656c"
   },
   "outputs": [],
   "source": [
    "# # !pip install -q kaggle\n",
    "# !mkdir ~/.kaggle\n",
    "# from google.colab import files\n",
    "# !cp kaggle.json ~/.kaggle/\n",
    "# !chmod 600 ~/.kaggle/kaggle.json"
   ]
  },
  {
   "cell_type": "code",
   "execution_count": 12,
   "metadata": {
    "colab": {
     "base_uri": "https://localhost:8080/"
    },
    "id": "2wL9cyw8eFs6",
    "outputId": "7f61430b-290a-4e5c-db10-d4c579073c64"
   },
   "outputs": [],
   "source": [
    "# !kaggle competitions download -c cisc-873-dm-f22-a3   #Download data of competition \"Fake_Reddit_Prediction\""
   ]
  },
  {
   "cell_type": "markdown",
   "metadata": {
    "id": "pKCPk0UnrtNN"
   },
   "source": [
    " **read data from the *path***"
   ]
  },
  {
   "cell_type": "code",
   "execution_count": 13,
   "metadata": {
    "colab": {
     "base_uri": "https://localhost:8080/"
    },
    "id": "3oeEeAZ-0x9a",
    "outputId": "02db77c9-91bb-4a2d-e05d-5b9216641c8d"
   },
   "outputs": [],
   "source": [
    "# pd.set_option('display.max_colwidth', None)  #to display all row with its data\n",
    "# pd.options.display.max_rows = 1000\n",
    "\n",
    "# Load Data\n",
    "\n",
    "# importing required modules\n",
    "# from zipfile import ZipFile\n",
    "  \n",
    "# # specifying the zip file name\n",
    "# file_name = \"cisc-873-dm-f22-a3.zip\"\n",
    "  \n",
    "# # opening the zip file in READ mode\n",
    "# with ZipFile(file_name, 'r') as zip:\n",
    "#     # printing all the contents of the zip file\n",
    "#     zip.printdir()\n",
    "  \n",
    "#     # extracting all the files\n",
    "#     print('Extracting all the files now...')\n",
    "#     zip.extractall()\n",
    "#     print('Done!')\n",
    "\n",
    "data=pd.read_csv('xy_train.csv',index_col='id')"
   ]
  },
  {
   "cell_type": "code",
   "execution_count": 14,
   "metadata": {
    "colab": {
     "base_uri": "https://localhost:8080/",
     "height": 0
    },
    "id": "_FVt3oxXAIbI",
    "outputId": "170ef72a-13f9-443c-f65f-0970a6306ca4"
   },
   "outputs": [
    {
     "data": {
      "text/html": [
       "<div>\n",
       "<style scoped>\n",
       "    .dataframe tbody tr th:only-of-type {\n",
       "        vertical-align: middle;\n",
       "    }\n",
       "\n",
       "    .dataframe tbody tr th {\n",
       "        vertical-align: top;\n",
       "    }\n",
       "\n",
       "    .dataframe thead th {\n",
       "        text-align: right;\n",
       "    }\n",
       "</style>\n",
       "<table border=\"1\" class=\"dataframe\">\n",
       "  <thead>\n",
       "    <tr style=\"text-align: right;\">\n",
       "      <th></th>\n",
       "      <th>text</th>\n",
       "      <th>label</th>\n",
       "    </tr>\n",
       "    <tr>\n",
       "      <th>id</th>\n",
       "      <th></th>\n",
       "      <th></th>\n",
       "    </tr>\n",
       "  </thead>\n",
       "  <tbody>\n",
       "    <tr>\n",
       "      <th>265723</th>\n",
       "      <td>A group of friends began to volunteer at a homeless shelter after their neighbors protested. \"Se...</td>\n",
       "      <td>0</td>\n",
       "    </tr>\n",
       "    <tr>\n",
       "      <th>284269</th>\n",
       "      <td>British Prime Minister @Theresa_May on Nerve Attack on Former Russian Spy: \"The government has c...</td>\n",
       "      <td>0</td>\n",
       "    </tr>\n",
       "    <tr>\n",
       "      <th>207715</th>\n",
       "      <td>In 1961, Goodyear released a kit that allows PS2s to be brought to heel. https://m.youtube.com/w...</td>\n",
       "      <td>0</td>\n",
       "    </tr>\n",
       "    <tr>\n",
       "      <th>551106</th>\n",
       "      <td>Happy Birthday, Bob Barker! The Price Is Right Host on How He'd Like to Be Remembered | \"As the ...</td>\n",
       "      <td>0</td>\n",
       "    </tr>\n",
       "    <tr>\n",
       "      <th>8584</th>\n",
       "      <td>Obama to Nation: 聙\"Innocent Cops and Unarmed Young Black Men Should Not be Dying Before Magic Jo...</td>\n",
       "      <td>0</td>\n",
       "    </tr>\n",
       "  </tbody>\n",
       "</table>\n",
       "</div>"
      ],
      "text/plain": [
       "                                                                                                       text  \\\n",
       "id                                                                                                            \n",
       "265723  A group of friends began to volunteer at a homeless shelter after their neighbors protested. \"Se...   \n",
       "284269  British Prime Minister @Theresa_May on Nerve Attack on Former Russian Spy: \"The government has c...   \n",
       "207715  In 1961, Goodyear released a kit that allows PS2s to be brought to heel. https://m.youtube.com/w...   \n",
       "551106  Happy Birthday, Bob Barker! The Price Is Right Host on How He'd Like to Be Remembered | \"As the ...   \n",
       "8584    Obama to Nation: 聙\"Innocent Cops and Unarmed Young Black Men Should Not be Dying Before Magic Jo...   \n",
       "\n",
       "        label  \n",
       "id             \n",
       "265723      0  \n",
       "284269      0  \n",
       "207715      0  \n",
       "551106      0  \n",
       "8584        0  "
      ]
     },
     "execution_count": 14,
     "metadata": {},
     "output_type": "execute_result"
    }
   ],
   "source": [
    "# data=pd.read_csv('/content/xy_t/rain.csv',index_col='id')\n",
    "data.head()"
   ]
  },
  {
   "cell_type": "markdown",
   "metadata": {
    "id": "3D7vqUMp42UR"
   },
   "source": [
    "# 2- Exploratory *Data*"
   ]
  },
  {
   "cell_type": "markdown",
   "metadata": {
    "id": "3vYjlwgzz303"
   },
   "source": [
    "EDA explained using sample Data set:\n",
    "To share my understanding of the concept and techniques I know,I’ll take an example of Data of product rating data set which is available on Iwish.com Machine Learning Repository and try to catch hold of as many insights from the data set using EDA.\n",
    "To starts with,I imported necessary libraries (for this example pandas, numpy,matplotlib and seaborn) and loaded the data set. "
   ]
  },
  {
   "cell_type": "code",
   "execution_count": 15,
   "metadata": {
    "colab": {
     "base_uri": "https://localhost:8080/",
     "height": 0
    },
    "id": "s0RPWKVrMdzd",
    "outputId": "a923899f-8f61-467d-b2b4-f2923a7b0042"
   },
   "outputs": [
    {
     "data": {
      "text/html": [
       "<div>\n",
       "<style scoped>\n",
       "    .dataframe tbody tr th:only-of-type {\n",
       "        vertical-align: middle;\n",
       "    }\n",
       "\n",
       "    .dataframe tbody tr th {\n",
       "        vertical-align: top;\n",
       "    }\n",
       "\n",
       "    .dataframe thead th {\n",
       "        text-align: right;\n",
       "    }\n",
       "</style>\n",
       "<table border=\"1\" class=\"dataframe\">\n",
       "  <thead>\n",
       "    <tr style=\"text-align: right;\">\n",
       "      <th></th>\n",
       "      <th>text</th>\n",
       "      <th>label</th>\n",
       "    </tr>\n",
       "    <tr>\n",
       "      <th>id</th>\n",
       "      <th></th>\n",
       "      <th></th>\n",
       "    </tr>\n",
       "  </thead>\n",
       "  <tbody>\n",
       "    <tr>\n",
       "      <th>265723</th>\n",
       "      <td>A group of friends began to volunteer at a homeless shelter after their neighbors protested. \"Se...</td>\n",
       "      <td>0</td>\n",
       "    </tr>\n",
       "    <tr>\n",
       "      <th>284269</th>\n",
       "      <td>British Prime Minister @Theresa_May on Nerve Attack on Former Russian Spy: \"The government has c...</td>\n",
       "      <td>0</td>\n",
       "    </tr>\n",
       "    <tr>\n",
       "      <th>207715</th>\n",
       "      <td>In 1961, Goodyear released a kit that allows PS2s to be brought to heel. https://m.youtube.com/w...</td>\n",
       "      <td>0</td>\n",
       "    </tr>\n",
       "    <tr>\n",
       "      <th>551106</th>\n",
       "      <td>Happy Birthday, Bob Barker! The Price Is Right Host on How He'd Like to Be Remembered | \"As the ...</td>\n",
       "      <td>0</td>\n",
       "    </tr>\n",
       "    <tr>\n",
       "      <th>8584</th>\n",
       "      <td>Obama to Nation: 聙\"Innocent Cops and Unarmed Young Black Men Should Not be Dying Before Magic Jo...</td>\n",
       "      <td>0</td>\n",
       "    </tr>\n",
       "  </tbody>\n",
       "</table>\n",
       "</div>"
      ],
      "text/plain": [
       "                                                                                                       text  \\\n",
       "id                                                                                                            \n",
       "265723  A group of friends began to volunteer at a homeless shelter after their neighbors protested. \"Se...   \n",
       "284269  British Prime Minister @Theresa_May on Nerve Attack on Former Russian Spy: \"The government has c...   \n",
       "207715  In 1961, Goodyear released a kit that allows PS2s to be brought to heel. https://m.youtube.com/w...   \n",
       "551106  Happy Birthday, Bob Barker! The Price Is Right Host on How He'd Like to Be Remembered | \"As the ...   \n",
       "8584    Obama to Nation: 聙\"Innocent Cops and Unarmed Young Black Men Should Not be Dying Before Magic Jo...   \n",
       "\n",
       "        label  \n",
       "id             \n",
       "265723      0  \n",
       "284269      0  \n",
       "207715      0  \n",
       "551106      0  \n",
       "8584        0  "
      ]
     },
     "execution_count": 15,
     "metadata": {},
     "output_type": "execute_result"
    }
   ],
   "source": [
    "data.head()  #TO check"
   ]
  },
  {
   "cell_type": "markdown",
   "metadata": {
    "id": "txZ08p5nfNyt"
   },
   "source": [
    "**Get the shape of data**"
   ]
  },
  {
   "cell_type": "code",
   "execution_count": 16,
   "metadata": {
    "colab": {
     "base_uri": "https://localhost:8080/"
    },
    "id": "M8SFFtxjzpo3",
    "outputId": "43febaa7-3c3d-4b74-bd4b-bc7ef1aa029c"
   },
   "outputs": [
    {
     "data": {
      "text/plain": [
       "(60000, 2)"
      ]
     },
     "execution_count": 16,
     "metadata": {},
     "output_type": "execute_result"
    }
   ],
   "source": [
    "data.shape # print the shape of Data"
   ]
  },
  {
   "cell_type": "markdown",
   "metadata": {
    "id": "Eey2hcXZ0XYw"
   },
   "source": [
    "* Dataset comprises of 60000 observations and 1 Feature and 1 label .\n",
    "\n",
    "\n",
    "\n"
   ]
  },
  {
   "cell_type": "code",
   "execution_count": 17,
   "metadata": {
    "colab": {
     "base_uri": "https://localhost:8080/"
    },
    "id": "DACZTQYp0vgT",
    "outputId": "098c89c2-58e1-447b-ae89-278db7246f1a"
   },
   "outputs": [
    {
     "name": "stdout",
     "output_type": "stream",
     "text": [
      "<class 'pandas.core.frame.DataFrame'>\n",
      "Int64Index: 60000 entries, 265723 to 34509\n",
      "Data columns (total 2 columns):\n",
      " #   Column  Non-Null Count  Dtype \n",
      "---  ------  --------------  ----- \n",
      " 0   text    60000 non-null  object\n",
      " 1   label   60000 non-null  int64 \n",
      "dtypes: int64(1), object(1)\n",
      "memory usage: 1.4+ MB\n"
     ]
    }
   ],
   "source": [
    "data.info(verbose=True,memory_usage=True,show_counts=True) \n"
   ]
  },
  {
   "cell_type": "markdown",
   "metadata": {
    "id": "1OHM5RMo09cf"
   },
   "source": [
    "\n",
    "\n",
    "*   Data has  float , objects and integer values.\n",
    "\n",
    "\n"
   ]
  },
  {
   "cell_type": "code",
   "execution_count": 18,
   "metadata": {
    "colab": {
     "base_uri": "https://localhost:8080/"
    },
    "id": "mIsj9y0LLnll",
    "outputId": "ee4696d2-f415-4877-d0d6-ac429b263a4b"
   },
   "outputs": [
    {
     "data": {
      "text/plain": [
       "text     0\n",
       "label    0\n",
       "dtype: int64"
      ]
     },
     "execution_count": 18,
     "metadata": {},
     "output_type": "execute_result"
    }
   ],
   "source": [
    "# anything missing?\n",
    "data.isnull().sum().sort_values(ascending=False)"
   ]
  },
  {
   "cell_type": "markdown",
   "metadata": {
    "id": "NQJ-Cc45LmgW"
   },
   "source": [
    "*   There are not any columns have null/missing values."
   ]
  },
  {
   "cell_type": "markdown",
   "metadata": {
    "id": "Ku4rDWGX60j6"
   },
   "source": [
    "**Get the columns and check unique values data**"
   ]
  },
  {
   "cell_type": "code",
   "execution_count": 19,
   "metadata": {
    "colab": {
     "base_uri": "https://localhost:8080/"
    },
    "id": "WFvWMEmJ68SK",
    "outputId": "9f7fbc25-6bf0-492d-9bb1-89ddab392b04"
   },
   "outputs": [
    {
     "data": {
      "text/plain": [
       "text     59645\n",
       "label        3\n",
       "dtype: int64"
      ]
     },
     "execution_count": 19,
     "metadata": {},
     "output_type": "execute_result"
    }
   ],
   "source": [
    "# features=list(data.columns)\n",
    "\n",
    "# for col in range(len(features)):   \n",
    "#     count = len(data[features[col]].unique()) # printing unique values of each Feature\n",
    "#     print(\"Number of unique values in %s =\"%features[col],count)\n",
    "\n",
    "# Another Easy WAy to do that without any increase in complexity by For Loop\n",
    "\n",
    "data.nunique()\n"
   ]
  },
  {
   "cell_type": "markdown",
   "metadata": {
    "id": "27DkkZbCfYba"
   },
   "source": [
    "**Get the unique values of label  of data**"
   ]
  },
  {
   "cell_type": "code",
   "execution_count": 20,
   "metadata": {
    "colab": {
     "base_uri": "https://localhost:8080/"
    },
    "id": "59u0HSHP5V6f",
    "outputId": "530d0c93-b323-40b1-b18f-fbabed70c5a7"
   },
   "outputs": [
    {
     "data": {
      "text/plain": [
       "array([0, 1, 2], dtype=int64)"
      ]
     },
     "execution_count": 20,
     "metadata": {},
     "output_type": "execute_result"
    }
   ],
   "source": [
    "data['label'].unique()  #how many unique values and what they are."
   ]
  },
  {
   "cell_type": "markdown",
   "metadata": {
    "id": "UAvFYBGa375x"
   },
   "source": [
    "* Target variable/Dependent variable is discrete and categorical in nature.\n",
    "* “label” score scale ranges [0,1,2]."
   ]
  },
  {
   "cell_type": "code",
   "execution_count": 21,
   "metadata": {
    "colab": {
     "base_uri": "https://localhost:8080/"
    },
    "id": "dvcukFITwNpB",
    "outputId": "03d4a0a7-6357-4c2b-fb8c-4679406e0c6f"
   },
   "outputs": [
    {
     "data": {
      "text/plain": [
       "label\n",
       "0        32172\n",
       "1        27596\n",
       "2          232\n",
       "dtype: int64"
      ]
     },
     "execution_count": 21,
     "metadata": {},
     "output_type": "execute_result"
    }
   ],
   "source": [
    "data[['label']].value_counts() \n",
    "     "
   ]
  },
  {
   "cell_type": "code",
   "execution_count": 22,
   "metadata": {
    "colab": {
     "base_uri": "https://localhost:8080/",
     "height": 0
    },
    "id": "Hk2Uj3znD09i",
    "outputId": "50c11cee-3a1c-4f6f-9f9e-3ddfe5464986"
   },
   "outputs": [
    {
     "data": {
      "image/png": "[encoded data removed]",
      "text/plain": [
       "<Figure size 576x360 with 1 Axes>"
      ]
     },
     "metadata": {
      "needs_background": "light"
     },
     "output_type": "display_data"
    }
   ],
   "source": [
    "#Count plot match\n",
    "plt.figure(figsize=(8,5))\n",
    "ax = sns.countplot(x=\"label\", data=data)\n",
    "plt.show()"
   ]
  },
  {
   "cell_type": "markdown",
   "metadata": {
    "id": "TRVmGhFXlxEV"
   },
   "source": [
    "It is clear that the data is almost balanced but there is an outlier \"2\" ."
   ]
  },
  {
   "cell_type": "code",
   "execution_count": 23,
   "metadata": {
    "colab": {
     "base_uri": "https://localhost:8080/",
     "height": 0
    },
    "id": "voan58pWTV1l",
    "outputId": "8048594b-7822-458a-e59e-5d73feb16db1"
   },
   "outputs": [
    {
     "data": {
      "image/png": "[encoded data removed]",
      "text/plain": [
       "<Figure size 432x288 with 1 Axes>"
      ]
     },
     "metadata": {
      "needs_background": "light"
     },
     "output_type": "display_data"
    },
    {
     "data": {
      "text/plain": [
       "<Figure size 720x504 with 0 Axes>"
      ]
     },
     "metadata": {},
     "output_type": "display_data"
    }
   ],
   "source": [
    "plt.boxplot(data['label'])\n",
    "fig = plt.figure(figsize =(10, 7))\n",
    "plt.show()"
   ]
  },
  {
   "cell_type": "markdown",
   "metadata": {
    "id": "2yT029PaV9G7"
   },
   "source": [
    "# 3- Preprocessing\n",
    "\n",
    "This function do many preprocssing steps\n"
   ]
  },
  {
   "cell_type": "markdown",
   "metadata": {
    "id": "5Zh2sYv5SSND"
   },
   "source": [
    "## 1- remove outliers"
   ]
  },
  {
   "cell_type": "code",
   "execution_count": 24,
   "metadata": {
    "colab": {
     "base_uri": "https://localhost:8080/"
    },
    "id": "Ws10mi3bUihX",
    "outputId": "b751d7e2-cf62-44cb-fc82-75dda8aaa3ff"
   },
   "outputs": [
    {
     "name": "stdout",
     "output_type": "stream",
     "text": [
      "Before dropping outlier\n",
      "0    0.536200\n",
      "1    0.459933\n",
      "2    0.003867\n",
      "Name: label, dtype: float64\n",
      "After dropping outlier\n",
      "0    0.538281\n",
      "1    0.461719\n",
      "Name: label, dtype: float64\n"
     ]
    }
   ],
   "source": [
    "print(\"Before dropping outlier\")\n",
    "print(data[\"label\"].value_counts(normalize=True))\n",
    "data.drop(data.loc[data[\"label\"]==2].index,inplace=True)\n",
    "print(\"After dropping outlier\")\n",
    "print(data[\"label\"].value_counts(normalize=True))\n"
   ]
  },
  {
   "cell_type": "code",
   "execution_count": 25,
   "metadata": {
    "colab": {
     "base_uri": "https://localhost:8080/",
     "height": 339
    },
    "id": "YSr0xFwGAIbd",
    "outputId": "9b9c2b21-1925-4c54-f535-33e6d730ea0f"
   },
   "outputs": [
    {
     "data": {
      "image/png": "[encoded data removed]",
      "text/plain": [
       "<Figure size 576x360 with 1 Axes>"
      ]
     },
     "metadata": {
      "needs_background": "light"
     },
     "output_type": "display_data"
    }
   ],
   "source": [
    "#Count plot match\n",
    "plt.figure(figsize=(8,5))\n",
    "ax = sns.countplot(x=\"label\", data=data)\n",
    "plt.show()"
   ]
  },
  {
   "cell_type": "markdown",
   "metadata": {
    "id": "dS0ziJlGo_9p"
   },
   "source": [
    "## Function Clean_Text"
   ]
  },
  {
   "cell_type": "code",
   "execution_count": 26,
   "metadata": {
    "colab": {
     "base_uri": "https://localhost:8080/"
    },
    "id": "YEEx9ulobwe4",
    "outputId": "8baaadb5-5b4d-4b8b-9186-7a6d9fb9d15e"
   },
   "outputs": [
    {
     "name": "stdout",
     "output_type": "stream",
     "text": [
      "porter studi\n",
      "Lancster study\n",
      "Snowball studi\n",
      "Wall time: 44.8 ms\n"
     ]
    }
   ],
   "source": [
    "%%time\n",
    "#nltk.download('punkt')\n",
    "#nltk.download('stopwords')\n",
    "# nltk.download('stem')\n",
    "#nltk.download('wordnet')\n",
    "\"\"\"\n",
    "  For ENGlish Language  PorterStammer or LancasterStammer\n",
    "  PorterStemmer uses Suffix Stripping ,\n",
    "  PorterStemmer is known for its simplicity and speed.\n",
    "\"\"\" \n",
    "from nltk.stem import PorterStemmer\n",
    "Porter = PorterStemmer()\n",
    "print(\"porter\",Porter.stem(\"Studying\"))\n",
    "\n",
    "\"\"\"\n",
    "  containing about 120 rules indexed by the last letter of a suffix.\n",
    "  LancasterStemmer is simple, but heavy stemming due to iterations and\n",
    "  over-stemming may occur. Over-stemming causes the stems to be not \n",
    "  linguistic, or they may have no meaning.\n",
    "\"\"\"\n",
    "from nltk.stem import LancasterStemmer\n",
    "Lancaster = LancasterStemmer()\n",
    "print(\"Lancster\",Lancaster.stem(\"Studying\"))\n",
    "\n",
    "#  SnowballStemmers is not only English stemmers:.\n",
    "#But it is improvement for Portal\n",
    "\n",
    "Snowball = SnowballStemmer(\"english\",ignore_stopwords=False) \n",
    "print(\"Snowball\",Snowball.stem(\"Studying\"))\n",
    "\n",
    "\"\"\"\n",
    " these words are filtered out from search queries because\n",
    "  they return a vast amount of unnecessary information.\n",
    "\"\"\"  \n",
    "stop_words = set(stopwords.words(\"english\"))  #get the stop words and set ( unique them)\n",
    "\n",
    "\"\"\"\n",
    "Lemmatization, unlike Stemming, reduces the inflected words properly\n",
    " ensuring that the root word belongs to the language.\n",
    " it is used where it is necessary to get valid words.\n",
    "            WordNet Lemmatizer\n",
    "\n",
    "\"\"\"\n",
    "#Lemmatization\n",
    "from nltk.stem import WordNetLemmatizer\n",
    "wordnet = WordNetLemmatizer()\n",
    "\n",
    "\"\"\" \n",
    "the word ‘leaves’ without a POS tag would get lemmatized to\n",
    "the word ‘leaf’, but with a verb tag, its lemma would become ‘leave’.\n",
    "POS tagging is the task of assigning each word in a sentence the part of speech \n",
    "that it assumes in that sentence. The primary target of POS tagging is to\n",
    "identify the grammatical group of a given word: whether it is a noun,\n",
    "pronoun, adjective, verb, adverbs, etc. based on the context.\n",
    "\"\"\"\n",
    "#Tokenization is the process of segmenting running text into sentences and words.\n",
    "#In essence, it’s the task of cutting a text into pieces called tokens.\n",
    "#tokenizer separates the sentence into words\n",
    "\n",
    "from nltk.tokenize import  word_tokenize\n",
    "\n"
   ]
  },
  {
   "cell_type": "code",
   "execution_count": 27,
   "metadata": {},
   "outputs": [],
   "source": [
    "#               [Porter,Lancaster,Snowball]\n",
    "def clean_text(text,Stemmer=Snowball,Lemmatization=False, for_embedding=False):\n",
    "    \"\"\"\n",
    "    Arguments = \n",
    "    Stemmer = [Porter,Lancaster,Snowball]\n",
    "     steps:\n",
    "        - remove any html tags (< /br> often found)\n",
    "        - Keep only ASCII + European Chars and whitespace, no digits\n",
    "        - remove single letter chars\n",
    "        - convert all whitespaces (tabs etc.) to single wspace\n",
    "           if not for embedding (but e.g. tdf-idf):\n",
    "        - all lowercase\n",
    "        - remove stopwords, punctuation and stemm\n",
    "    Return clean text    \n",
    "    \"\"\"\n",
    "    # !\"#$%&'()*+,-./:;<=>?@[\\]^_`{|}~\n",
    "    RE_WSPACE = re.compile(r\"\\s+\", re.IGNORECASE)\n",
    "    RE_TAGS = re.compile(r\"<[^>]+>\")\n",
    "    RE_ASCII = re.compile(r\"[^A-Za-z]\", re.IGNORECASE)\n",
    "    RE_SINGLECHAR = re.compile(r\"\\b[A-Za-zÀ-ž]\\b\", re.IGNORECASE)\n",
    "\n",
    "    if for_embedding:\n",
    "        # Keep punctuation\n",
    "        RE_ASCII = re.compile(r\"[^A-Za-zÀ-ž,.!? ]\", re.IGNORECASE)\n",
    "        RE_SINGLECHAR = re.compile(r\"\\b[A-Za-zÀ-ž,.!?]\\b\", re.IGNORECASE)\n",
    "\n",
    "    text = re.sub(RE_TAGS, \" \", text)\n",
    "    text = re.sub(RE_ASCII, \" \", text)\n",
    "    text = re.sub(RE_SINGLECHAR, \" \", text)\n",
    "    text = re.sub(RE_WSPACE, \" \", text)\n",
    "\n",
    "    word_tokens = word_tokenize(text)    \n",
    "    words_tokens_lower = [word.lower() for word in word_tokens]\n",
    "    if for_embedding:\n",
    "        # no stemming, lowering and punctuation / stop words removal\n",
    "        words_filtered = word_tokens\n",
    "    else:\n",
    "      if Lemmatization==False:\n",
    "        words_filtered = [\n",
    "            Stemmer.stem(word) for word in words_tokens_lower if word not in stop_words]\n",
    "      else:\n",
    "        words_filtered = [\n",
    "            wordnet.lemmatize(word, pos=\"v\") for word in words_tokens_lower if word not in stop_words]\n",
    "                    # parts-of-speech (POS) tagging.  v = Verbs >> (leaves = Leave) \n",
    "\n",
    "    text_clean = \" \".join(words_filtered)\n",
    "    return text_clean"
   ]
  },
  {
   "cell_type": "markdown",
   "metadata": {
    "id": "Gd5MNYlVhv0I"
   },
   "source": [
    "Evaluate Clean Function"
   ]
  },
  {
   "cell_type": "code",
   "execution_count": 28,
   "metadata": {
    "colab": {
     "base_uri": "https://localhost:8080/"
    },
    "id": "B6xrPtRfhvJi",
    "outputId": "ba279892-66f6-4352-f44f-28cb5b362cb6"
   },
   "outputs": [
    {
     "name": "stdout",
     "output_type": "stream",
     "text": [
      "(59768, 2)\n",
      "(59768, 3)\n",
      "(59758, 3)\n"
     ]
    }
   ],
   "source": [
    "print(data.shape)\n",
    "# Clean text\n",
    "data[\"text_clean\"] = data.loc[data[\"text\"].str.len() > 20, \"text\"] # get rows with more than 5 words, other will NAN\n",
    "data[\"text_clean\"] = data[\"text_clean\"].map(\n",
    "    lambda x: clean_text(x,Stemmer=Snowball,Lemmatization=False, for_embedding=False) if isinstance(x, str) else x # if x STR >> clean data by function\n",
    ")\n",
    "print(data.shape)\n",
    "# Drop when any of x missing\n",
    "data = data[(data[\"text_clean\"] != \"\") & (data[\"text_clean\"] != \"null\")]\n",
    "\n",
    "data = data.dropna(axis=\"index\", subset=[\"text\",\"label\",\"text_clean\"]).reset_index(drop=True)\n",
    "\n",
    "print(data.shape)"
   ]
  },
  {
   "cell_type": "markdown",
   "metadata": {
    "id": "jJyxIbK2L7nF"
   },
   "source": [
    "# 4- Split + Train Models Without Random Search\n",
    "Thoughts :- To get the best model for this data\n",
    "\n",
    "By ***experimental*** : Logistic Regression - XGboosting - Neural Network \n",
    "are the best models "
   ]
  },
  {
   "cell_type": "markdown",
   "metadata": {
    "id": "RJmV1tDYRnbr"
   },
   "source": [
    "## **Two different text preprocessing techniques**"
   ]
  },
  {
   "cell_type": "markdown",
   "metadata": {
    "id": "pOLBd5cmQDGn"
   },
   "source": [
    " ### **1-TFIDF vectorizer**"
   ]
  },
  {
   "cell_type": "code",
   "execution_count": 29,
   "metadata": {
    "id": "hxcojxUnQJGX"
   },
   "outputs": [],
   "source": [
    "TFvectorizer=TfidfVectorizer(ngram_range= (1, 3),\n",
    "                             max_df = 0.9,min_df = 10,\n",
    "                             analyzer= 'word',norm='l2')\n"
   ]
  },
  {
   "cell_type": "markdown",
   "metadata": {
    "id": "tEXZfeP42N65"
   },
   "source": [
    "### **2-Count vectorizer**\n"
   ]
  },
  {
   "cell_type": "code",
   "execution_count": 30,
   "metadata": {
    "id": "D2W1de752V0N"
   },
   "outputs": [],
   "source": [
    "Ctvectorizer= CountVectorizer(analyzer='word', ngram_range=(1, 2),\n",
    "                              max_df = 0.9,min_df = 10)\n"
   ]
  },
  {
   "cell_type": "markdown",
   "metadata": {
    "id": "qjD-SqHRR8hr"
   },
   "source": [
    "## **Split**"
   ]
  },
  {
   "cell_type": "code",
   "execution_count": 31,
   "metadata": {},
   "outputs": [],
   "source": [
    "# feature creation and modelling in a single function\n",
    "X=data.drop(['label','text'],axis=1)\n",
    "y=data['label']\n"
   ]
  },
  {
   "cell_type": "code",
   "execution_count": 32,
   "metadata": {
    "colab": {
     "base_uri": "https://localhost:8080/",
     "height": 270
    },
    "id": "O02cqDAWMD_d",
    "outputId": "91cea5d0-1374-4c44-919d-a63c29dc11d8"
   },
   "outputs": [
    {
     "name": "stdout",
     "output_type": "stream",
     "text": [
      "(47806,)\n",
      "(47806, 8613)\n"
     ]
    }
   ],
   "source": [
    "#Split\n",
    "x_train, x_test, y_train, y_test =train_test_split(X['text_clean'],y,\n",
    "                                                   train_size = 0.80,\n",
    "                                                   stratify =y, random_state = 202)\n",
    "print(x_train.shape)\n",
    "x_train=TFvectorizer.fit_transform(x_train)\n",
    "x_test=TFvectorizer.transform(x_test)\n",
    "print(x_train.shape)\n"
   ]
  },
  {
   "cell_type": "markdown",
   "metadata": {
    "id": "dyq2Ny_AMoaL"
   },
   "source": [
    "## **Train Models**"
   ]
  },
  {
   "cell_type": "markdown",
   "metadata": {
    "id": "at0NYZpunWze"
   },
   "source": [
    "### 1 - Decision Tree"
   ]
  },
  {
   "cell_type": "code",
   "execution_count": 33,
   "metadata": {
    "colab": {
     "base_uri": "https://localhost:8080/"
    },
    "id": "t1aZbBrMmr-O",
    "outputId": "80cb728e-decb-44fd-f148-4fa09f820044"
   },
   "outputs": [
    {
     "name": "stdout",
     "output_type": "stream",
     "text": [
      "0.7826092877516774\n",
      "Wall time: 630 ms\n"
     ]
    }
   ],
   "source": [
    "%%time\n",
    "from sklearn.tree import DecisionTreeClassifier \n",
    "from sklearn import tree\n",
    "\n",
    "clf_DT = DecisionTreeClassifier(max_depth=1000,criterion='entropy',max_features=700,min_samples_leaf=20) # you could try with GINI>> replace ('entropy') with ('gini') \n",
    "clf_DT.fit(x_train, y_train) \n",
    "pred_test = clf_DT.predict_proba(x_test)[:,1]\n",
    "print(roc_auc_score(y_test,pred_test))\n",
    "\n"
   ]
  },
  {
   "cell_type": "markdown",
   "metadata": {
    "id": "9OBGxxu6oX3E"
   },
   "source": [
    "### 2- AdaBoost Classifier with Decision Tree"
   ]
  },
  {
   "cell_type": "code",
   "execution_count": 34,
   "metadata": {
    "colab": {
     "base_uri": "https://localhost:8080/"
    },
    "id": "LunhcNSPtvz7",
    "outputId": "9e228d5f-5c98-4764-abed-73f2ac0a7488"
   },
   "outputs": [
    {
     "name": "stdout",
     "output_type": "stream",
     "text": [
      "0.839968012372335\n",
      "Wall time: 26.7 s\n"
     ]
    }
   ],
   "source": [
    "%%time\n",
    "classifier_ABC_GB = AdaBoostClassifier(DecisionTreeClassifier(max_depth=50,\n",
    "                                             max_features=100,min_samples_leaf=10,\n",
    "                                            ),algorithm= 'SAMME',\n",
    "                                       learning_rate= 0.082,n_estimators= 400)\n",
    "classifier_ABC_GB.fit(x_train, y_train) \n",
    "pred_test = classifier_ABC_GB.predict_proba(x_test)[:,1]\n",
    "print(roc_auc_score(y_test,pred_test))\n"
   ]
  },
  {
   "cell_type": "markdown",
   "metadata": {
    "id": "1WjXNfL6o1oz"
   },
   "source": [
    "### 3- AdaBoost with RandomForest"
   ]
  },
  {
   "cell_type": "code",
   "execution_count": 30,
   "metadata": {
    "colab": {
     "base_uri": "https://localhost:8080/"
    },
    "id": "FGIAKy02oh5r",
    "outputId": "6bbb6d7e-fffa-4417-ee5b-41d05ec8817a"
   },
   "outputs": [
    {
     "name": "stdout",
     "output_type": "stream",
     "text": [
      "0.8695666936600769\n",
      "Wall time: 14min 26s\n"
     ]
    }
   ],
   "source": [
    "%%time\n",
    "classifier_ABC_RF = AdaBoostClassifier(RandomForestClassifier(n_estimators= 200,max_depth=40),algorithm= 'SAMME',\n",
    "                                       learning_rate= 0.082,n_estimators= 100)\n",
    "classifier_ABC_RF.fit(x_train, y_train) \n",
    "pred_test = classifier_ABC_RF.predict_proba(x_test)[:,1]\n",
    "\n",
    "print(roc_auc_score(y_test,pred_test))"
   ]
  },
  {
   "cell_type": "markdown",
   "metadata": {
    "id": "dDRHo_qB-DAR"
   },
   "source": [
    "### 4- XGBoost"
   ]
  },
  {
   "cell_type": "code",
   "execution_count": 25,
   "metadata": {
    "id": "K4uL6dhv8oSu",
    "outputId": "718f1213-cc41-4e5f-9ebf-48f5ccbe6377"
   },
   "outputs": [
    {
     "name": "stdout",
     "output_type": "stream",
     "text": [
      "0.8550121230934431\n",
      "Wall time: 1min\n"
     ]
    }
   ],
   "source": [
    "%%time\n",
    "import xgboost as xgb\n",
    "classifier_XGBC = XGBClassifier(use_label_encoder=False,n_estimators=400,\n",
    "                                max_depth=50,\n",
    "                                objective='binary:logistic',eval_metric='mlogloss')\n",
    "\n",
    "classifier_XGBC.fit(x_train, y_train) \n",
    "pred_test = classifier_XGBC.predict_proba(x_test)[:,1]\n",
    "print(roc_auc_score(y_test,pred_test))"
   ]
  },
  {
   "cell_type": "markdown",
   "metadata": {
    "id": "_wsM_ZDEo-pr"
   },
   "source": [
    "### 5- Gradient Boost "
   ]
  },
  {
   "cell_type": "code",
   "execution_count": 26,
   "metadata": {
    "colab": {
     "base_uri": "https://localhost:8080/"
    },
    "id": "SZ9zXnE73zlJ",
    "outputId": "7423468e-81a2-4e6a-cfaa-458cbb80d346"
   },
   "outputs": [
    {
     "name": "stdout",
     "output_type": "stream",
     "text": [
      "0.86887632951887\n",
      "Wall time: 1min 3s\n"
     ]
    }
   ],
   "source": [
    "%%time\n",
    "classifier_GBC = GradientBoostingClassifier(\n",
    "    n_estimators=500,max_depth=50,\n",
    "    max_features=500,min_samples_leaf=10,\n",
    "                                            )\n",
    "\n",
    "classifier_GBC.fit(x_train, y_train) \n",
    "pred_test = classifier_GBC.predict_proba(x_test)[:,1]\n",
    "print(roc_auc_score(y_test,pred_test))"
   ]
  },
  {
   "cell_type": "markdown",
   "metadata": {
    "id": "Xzg1R35Kplcs"
   },
   "source": [
    "### 6- Neural Network"
   ]
  },
  {
   "cell_type": "code",
   "execution_count": 27,
   "metadata": {
    "colab": {
     "base_uri": "https://localhost:8080/"
    },
    "id": "zRb8ocI55aZZ",
    "outputId": "0e0ef64e-92ef-4144-84c3-830587f75faa"
   },
   "outputs": [
    {
     "name": "stdout",
     "output_type": "stream",
     "text": [
      "0.8723981569596905\n",
      "Wall time: 1.3 s\n"
     ]
    }
   ],
   "source": [
    "%%time\n",
    "\n",
    "from sklearn.neural_network import MLPClassifier\n",
    "\n",
    "classifier_neural_MLP = MLPClassifier(\n",
    "        random_state=123,\n",
    "        solver=\"adam\",\n",
    "        hidden_layer_sizes=(12, 12, 12),\n",
    "        activation=\"relu\",\n",
    "        early_stopping=True,\n",
    "        n_iter_no_change=1)\n",
    "classifier_neural_MLP.fit(x_train, y_train) \n",
    "pred_test = classifier_neural_MLP.predict_proba(x_test)[:,1]\n",
    "print(roc_auc_score(y_test,pred_test))"
   ]
  },
  {
   "cell_type": "markdown",
   "metadata": {
    "id": "9znVSJw8p1Q9"
   },
   "source": [
    "### 7- Random Forest "
   ]
  },
  {
   "cell_type": "code",
   "execution_count": 28,
   "metadata": {
    "colab": {
     "base_uri": "https://localhost:8080/"
    },
    "id": "URRE56i-6Ti5",
    "outputId": "990d35ca-e6eb-45d9-9492-121e41574c53"
   },
   "outputs": [
    {
     "name": "stdout",
     "output_type": "stream",
     "text": [
      "0.8212775802382661\n",
      "Wall time: 8.71 s\n"
     ]
    }
   ],
   "source": [
    "%%time\n",
    "# Random forest \n",
    "\n",
    "classifier_RFC = RandomForestClassifier(n_estimators= 200,max_depth=40)\n",
    "classifier_RFC.fit(x_train, y_train) \n",
    "pred_test = classifier_RFC.predict_proba(x_test)[:,1]\n",
    "print(roc_auc_score(y_test,pred_test))"
   ]
  },
  {
   "cell_type": "markdown",
   "metadata": {
    "id": "B9U07Oi08oSw"
   },
   "source": [
    "### 8- Logistic Regression"
   ]
  },
  {
   "cell_type": "code",
   "execution_count": 29,
   "metadata": {
    "colab": {
     "base_uri": "https://localhost:8080/"
    },
    "id": "-x1SYvc38oSw",
    "outputId": "38b594f3-be54-4196-8c38-d368d2c011ba"
   },
   "outputs": [
    {
     "name": "stdout",
     "output_type": "stream",
     "text": [
      "0.8738309079494669\n",
      "Wall time: 222 ms\n"
     ]
    }
   ],
   "source": [
    "%%time\n",
    "# Logistic regression \n",
    "Log_Reg = LogisticRegression(solver='sag',C= 1,  #sag is slow 50 sec on Colab but score > 0.87\n",
    "                             penalty='l2' ,        #lbfgs is very fast  = .867\n",
    "                             max_iter=1000)\n",
    "Log_Reg.fit(x_train, y_train) \n",
    "pred_test = Log_Reg.predict_proba(x_test)[:,1]\n",
    "print(roc_auc_score(y_test,pred_test))\n"
   ]
  },
  {
   "cell_type": "markdown",
   "metadata": {
    "id": "sl1duc_m8oSw"
   },
   "source": [
    "### It is clear that the best models for this data are ( Logistic Regression - Neural Network - XG Boost - gradient boost):\n",
    "\n",
    "* AdaBoost with RandomForest is good but take much time not good for optimization"
   ]
  },
  {
   "cell_type": "markdown",
   "metadata": {
    "id": "Os6DAvfRV3Ru"
   },
   "source": [
    "# 5-Trials\n",
    "## Training Model (Split - Pipeline) \n",
    "*5 trails*\n",
    "All with **validation set** (not cross-validation).\n",
    "\n",
    "We Will Cover both character-level vectorizer and word-level vectorizer in tuning .\n",
    "\n",
    "1- Random Search with Logistic Regression (TFIDF vectorizer)\n",
    "\n",
    "2-  Random Search with Logistic Regression. (Counter vectorizer)\n",
    "\n",
    "3- Random Search with Random Forest\n",
    "\n",
    "4-Random Search with XGBoost.\n",
    "\n",
    "5- Random Search with Neural Network.\n"
   ]
  },
  {
   "cell_type": "markdown",
   "metadata": {
    "id": "KK9hgyRBAIbh"
   },
   "source": [
    "## At first \n",
    "\n",
    "When applying the fit method of the vectorizer in all dataset might introduce some data leakage. As principle,the model shouldn't see the test data. So to guarantee that your model will not see test data on the training fase, it should split first, vectorizer after.\n",
    "\n",
    "I will do Random Search with **4** Classifiers.\n",
    "\n",
    "1 Random Search for Logistic"
   ]
  },
  {
   "cell_type": "markdown",
   "metadata": {
    "id": "LWkRdhJckBdG"
   },
   "source": [
    "1- Define Function For **Submission**"
   ]
  },
  {
   "cell_type": "code",
   "execution_count": 35,
   "metadata": {
    "id": "kuAhh6lFkLbN"
   },
   "outputs": [],
   "source": [
    "def make_submission(model,Test_data):\n",
    "  \n",
    "  print(\"Test shape \",Test_data.shape)\n",
    "\n",
    "  Test_data[\"text_clean\"] = Test_data[\"text\"].map(\n",
    "      lambda x: clean_text(x,Stemmer=Snowball,Lemmatization=False, for_embedding=False) if isinstance(x, str) else x)\n",
    "  \n",
    "  if Test_data.shape[0] != 59151:\n",
    "      print(\"You can't upload because the file isn't equal with 59151 rows \")\n",
    "      print(f\"The difference is {59151-Test_data.shape[0]}\")\n",
    "  else :\n",
    "      print(\"Good ...!!! You can upload Now\")\n",
    "  print(\"Test shape after preprocessing\",Test_data.shape)\n",
    "  print(\"Null = \",Test_data.isnull().sum().sum())\n",
    "  submission = pd.DataFrame()\n",
    "  submission['id'] = Test_data.index\n",
    "  submission['label'] = model.predict_proba(Test_data['text_clean'])[:,1]\n",
    "  \n",
    "\n",
    "  return(submission.to_csv('Text_submission.csv', index=False))"
   ]
  },
  {
   "cell_type": "markdown",
   "metadata": {
    "id": "FTSS2LT4JlaP"
   },
   "source": [
    "2- **Load test data**"
   ]
  },
  {
   "cell_type": "code",
   "execution_count": 36,
   "metadata": {
    "id": "K0U4YvncJcOa"
   },
   "outputs": [],
   "source": [
    "#Train\n",
    "X=data.drop(['label','text'],axis=1)\n",
    "y=data['label']\n",
    "#test\n",
    "X_Test=pd.read_csv(('x_test.csv'),index_col='id')  #Load test data\n"
   ]
  },
  {
   "cell_type": "markdown",
   "metadata": {
    "id": "J4fCSNgSJpcq"
   },
   "source": [
    "3- **Splitting data for validation set**"
   ]
  },
  {
   "cell_type": "code",
   "execution_count": 37,
   "metadata": {
    "id": "_52-jQAcHHLK"
   },
   "outputs": [],
   "source": [
    "from sklearn.model_selection import train_test_split\n",
    "from sklearn.model_selection import PredefinedSplit\n",
    "\n",
    "# Further split the original training set to a train and a validation set\n",
    "x_train2, X_val, y_train2, y_val =train_test_split(X['text_clean'],y,\n",
    "                                                   train_size = 0.7,\n",
    "                                                   stratify = y,\n",
    "                                                   random_state = 2022)\n",
    "\n",
    "# Create a list where train data indices are -1 and validation data indices are 0\n",
    "\n",
    "split_index = [-1 if x in x_train2.index else 0 for x in X.index]\n",
    "# Use the list to create PredefinedSplit\n",
    "pds = PredefinedSplit(test_fold = split_index)"
   ]
  },
  {
   "cell_type": "markdown",
   "metadata": {
    "id": "W89UXSiOKFvN"
   },
   "source": [
    "4- Make **Pipeline** (vectorizer + model )"
   ]
  },
  {
   "cell_type": "markdown",
   "metadata": {
    "id": "sF_Mj5lxciCK"
   },
   "source": [
    "## 1- Random Search with **Logistic Regression (TFIDF vectorizer)**\n",
    "\n",
    "\n",
    "\n",
    "We can tune the hyperparameters (including different preprocessing configurations using Random Search with validation set).\n",
    "\n",
    "\n",
    "The best hyperparameters are :- \n",
    "**Score** =  0.8752343380738591\n",
    "\n",
    "**C'**:  1\n",
    "\n",
    " **penalty**': 'l2'\n",
    " \n",
    "  **solver**': 'lbfgs'\n",
    "\n",
    "**thoughts and observations for trial 1** :\n",
    "\n",
    "We could search for many hyperparameters in Logistic Regression and choose the best .\n",
    "\n",
    "**Plan for trial 2:**\n",
    "\n",
    "I Found Score = 87%, Then we could try another Hyperparameter with same classifier for example **Logistic Regression** but with **Counter vectorizer**\n",
    "  and search for best hyperparameters. \n",
    "  I guess that the accuracy will be high"
   ]
  },
  {
   "cell_type": "code",
   "execution_count": 38,
   "metadata": {
    "id": "JMzpNJLaciCO"
   },
   "outputs": [],
   "source": [
    "# define parameter space to test # runtime 35min\n",
    "params = {\n",
    "    #Hyperparameter for TFIDFVectorizer  \n",
    "    \"tfidf__ngram_range\": [(1, 2),(1,3)], # (1, 3)\n",
    "    \"tfidf__max_df\": [0.4,0.5,0.6],    #0.3,0.5,,0.9\n",
    "    \"tfidf__min_df\": [10],\n",
    "    \"tfidf__analyzer\":[\"char\",\"word\"],  #,\"char\"\n",
    "    \"tfidf__norm\":[\"l2\"],\n",
    "    \n",
    "#     HYPERparamets for LogReg\n",
    "    \"LOG__solver\":['lbfgs',\"sag\"],  #\"sag\", 'newton-cg','liblinear',\n",
    "    \"LOG__C\":[1,1e-1],     #1e-1,,1e1,1e2\n",
    "    \"LOG__penalty\":['l2'],\n",
    "\n",
    "}\n",
    "\n",
    "pipe = Pipeline([(\"tfidf\", TfidfVectorizer()),(\"LOG\",LogisticRegression(random_state=2022,max_iter=5000))]) \n"
   ]
  },
  {
   "cell_type": "code",
   "execution_count": 39,
   "metadata": {
    "colab": {
     "base_uri": "https://localhost:8080/"
    },
    "id": "jPTnARI_GHan",
    "outputId": "0fa611a2-1f54-4da4-b82e-a30fde27017b"
   },
   "outputs": [
    {
     "name": "stdout",
     "output_type": "stream",
     "text": [
      "Fitting 1 folds for each of 20 candidates, totalling 20 fits\n",
      "best Parameters {'tfidf__norm': 'l2', 'tfidf__ngram_range': (1, 2), 'tfidf__min_df': 10, 'tfidf__max_df': 0.5, 'tfidf__analyzer': 'word', 'LOG__solver': 'lbfgs', 'LOG__penalty': 'l2', 'LOG__C': 1}\n",
      "best score ROC_AUC 0.872004632813468\n",
      "Wall time: 19.3 s\n"
     ]
    }
   ],
   "source": [
    "%%time\n",
    "pipe_LOG_TFIDF = RandomizedSearchCV(\n",
    "    pipe, params, n_jobs=-1,cv=pds,verbose=1 ,scoring=\"roc_auc\", n_iter=20)\n",
    "pipe_LOG_TFIDF.fit(X['text_clean'],y) #.values.astype('U')\n",
    "\n",
    "print('best Parameters {}'.format(pipe_LOG_TFIDF.best_params_))\n",
    "print('best score ROC_AUC {}'.format(pipe_LOG_TFIDF.best_score_))\n"
   ]
  },
  {
   "cell_type": "markdown",
   "metadata": {
    "id": "FxU8g_4gEppu"
   },
   "source": [
    "##### **Make submission file**"
   ]
  },
  {
   "cell_type": "code",
   "execution_count": 40,
   "metadata": {
    "id": "4tndstqqEpAf"
   },
   "outputs": [
    {
     "name": "stdout",
     "output_type": "stream",
     "text": [
      "Test shape  (59151, 1)\n",
      "Good ...!!! You can upload Now\n",
      "Test shape after preprocessing (59151, 2)\n",
      "Null =  0\n"
     ]
    }
   ],
   "source": [
    "model=pipe_LOG_TFIDF # for make submission\n",
    "make_submission(model,X_Test)"
   ]
  },
  {
   "cell_type": "markdown",
   "metadata": {
    "id": "MnW9gnSTA2Qg"
   },
   "source": [
    "## 2- Random Search with **Logistic Regression. (Counter vectorizer)**\n",
    "\n",
    "We can tune the hyperparameters (including different preprocessing configurations using Random Search with validation set).\n",
    "\n",
    "\n",
    "The best hyperparameters are :- \n",
    "**Score** = 0.83\n",
    "\n",
    "**C'**: 0.1\n",
    "\n",
    " **penalty**': 'l2'\n",
    " \n",
    "  **solver**': 'lbfgs'\n",
    "\n",
    "**thoughts and observations for trial 2** :\n",
    "I thought the score would be high but it lower than previous,It becomes 83% less than by -4\n",
    "\n",
    "**Plan for trial 3**\n",
    "\n",
    "So,I could try another classifier with another Hyperparameter for example **Random Forest**\n",
    "  and search for best hyperparameters. \n",
    "  I guess that the accuracy will be great because it depend on Decision tree with probabilites."
   ]
  },
  {
   "cell_type": "code",
   "execution_count": 47,
   "metadata": {
    "colab": {
     "base_uri": "https://localhost:8080/",
     "height": 218
    },
    "id": "GzX5pozUA2Qh",
    "outputId": "10ac2a6a-f250-4167-a6b1-b68d1eddeb1a"
   },
   "outputs": [],
   "source": [
    "# define parameter space to test # runtime 35min\n",
    "params = {\n",
    "    #Hyperparameter for CounterVectorizer  \n",
    "    \"CntVec__ngram_range\": [(2, 2),(1,3),(2,3)], # (1, 3)\n",
    "    \"CntVec__max_df\": [0.4,0.5,0.6],    #0.3,0.5,,0.9\n",
    "    \"CntVec__min_df\": [8,9,10],\n",
    "    \"CntVec__analyzer\":[\"char\",\"word\"],  #,\"char\"\n",
    "    \n",
    "    \n",
    "#     HYPERparamets for LogReg\n",
    "    \"LOG__solver\":['lbfgs',\"sag\"],  #\"sag\", 'newton-cg','liblinear',\n",
    "    \"LOG__C\":[1,1e-1],     #1e-1,,1e1,1e2\n",
    "    \"LOG__penalty\":['l2'],\n",
    "\n",
    "}\n",
    "\n",
    "pipe = Pipeline([(\"CntVec\", CountVectorizer()),(\"LOG\",LogisticRegression(random_state=2022,max_iter=5000))]) \n"
   ]
  },
  {
   "cell_type": "code",
   "execution_count": 48,
   "metadata": {
    "id": "K8NjzM0NA2Qh"
   },
   "outputs": [
    {
     "name": "stdout",
     "output_type": "stream",
     "text": [
      "Fitting 1 folds for each of 10 candidates, totalling 10 fits\n",
      "best Parameters {'LOG__solver': 'lbfgs', 'LOG__penalty': 'l2', 'LOG__C': 0.1, 'CntVec__ngram_range': (1, 3), 'CntVec__min_df': 9, 'CntVec__max_df': 0.6, 'CntVec__analyzer': 'char'}\n",
      "best score ROC_AUC 0.830271494300785\n",
      "Wall time: 6min 33s\n"
     ]
    }
   ],
   "source": [
    "%%time\n",
    "pipe_LOG_CNT = RandomizedSearchCV(\n",
    "    pipe, params, n_jobs=-1,cv=pds,verbose=1 ,scoring=\"roc_auc\", n_iter=10)\n",
    "pipe_LOG_CNT.fit(X['text_clean'],y) #.values.astype('U')\n",
    "\n",
    "print('best Parameters {}'.format(pipe_LOG_CNT.best_params_))\n",
    "print('best score ROC_AUC {}'.format(pipe_LOG_CNT.best_score_))\n"
   ]
  },
  {
   "cell_type": "markdown",
   "metadata": {
    "id": "3lLHmS6vE8fQ"
   },
   "source": [
    "##### **Make submission file**"
   ]
  },
  {
   "cell_type": "code",
   "execution_count": 43,
   "metadata": {
    "id": "xprbac21E8fQ"
   },
   "outputs": [
    {
     "name": "stdout",
     "output_type": "stream",
     "text": [
      "Test shape  (59151, 2)\n",
      "Good ...!!! You can upload Now\n",
      "Test shape after preprocessing (59151, 2)\n",
      "Null =  0\n"
     ]
    }
   ],
   "source": [
    "model=pipe_LOG_CNT # for make submission\n",
    "make_submission(model,X_Test)"
   ]
  },
  {
   "cell_type": "markdown",
   "metadata": {
    "id": "Ac0f5LIcf6n3"
   },
   "source": [
    "## 3- Random Search with  With **Random Forest**\n",
    "\n",
    "\n",
    "\n",
    "**best score**  = 0.81\n",
    "\n",
    "**best hyperparameters**\n",
    "\n",
    "\n",
    "  **max_depth**':  20\n",
    "\n",
    " \n",
    "  **n_estimators** : 400\n",
    "\n",
    "**thoughts and observations for trial 3** :\n",
    "\n",
    "The results wasn't the best for my thoughts because **Random Forest** is a great classifier, but it is still good.\n",
    "but i think it needs more tuning for more wide variaty of hyperparameters but my GPU doesn't help me as needed.\n",
    "\n",
    "  \n",
    "**Plan for trial 4**\n",
    "\n",
    "I could try another classifier with another Hyperparameter for example **XGboost**\n",
    "  and search for best hyperparameters. \n",
    "  I guess that the accuracy will be the greatest because it is extreme gradient boost.\n",
    "\n",
    "  "
   ]
  },
  {
   "cell_type": "code",
   "execution_count": 46,
   "metadata": {
    "id": "aCOMdLyoDG3N"
   },
   "outputs": [
    {
     "name": "stdout",
     "output_type": "stream",
     "text": [
      "Fitting 1 folds for each of 5 candidates, totalling 5 fits\n",
      "best Parameters {'tfidf__norm': 'l2', 'tfidf__ngram_range': (1, 2), 'tfidf__min_df': 10, 'tfidf__max_df': 0.7, 'tfidf__analyzer': 'word', 'RF__n_estimators': 400, 'RF__max_depth': 20}\n",
      "best score ROC_AUC 0.8100621899952997\n",
      "Wall time: 4min 50s\n"
     ]
    }
   ],
   "source": [
    "%%time\n",
    "# here we specify the search space\n",
    "# `__` denotes an attribute of the preceeding name\n",
    "# (e.g. my_classifier__n_estimators means the `n_estimators` param for `my_classifier`)\n",
    "# define parameter space to test # runtime 35min\n",
    "params = {\n",
    "    #Hyperparameter for TFIDFVectorizer  \n",
    "    \"tfidf__ngram_range\": [(1, 2)], # (1, 3)\n",
    "    \"tfidf__max_df\": [0.7,0.9],    #0.3,0.5,,0.9\n",
    "    \"tfidf__min_df\": [10],\n",
    "    \"tfidf__analyzer\":[\"word\",\"char\"],  #,\"char\"\n",
    "    \"tfidf__norm\":[\"l2\"],\n",
    "    \n",
    "#     HYPERparamets for GB\n",
    "    \"RF__n_estimators\":[200,400],\n",
    "    \"RF__max_depth\":[10,20],\n",
    "    \n",
    "    \n",
    " \n",
    "}\n",
    "\n",
    "pipe = Pipeline([(\"tfidf\", TfidfVectorizer()),\n",
    "                 (\"RF\", RandomForestClassifier())])\n",
    "# i was using a tfidftransformer,without using a countvectorizer before it.\n",
    "# Instead, just  I used a tfidfvectorizer which does both in one go.\n",
    "\n",
    "pipe_RF = RandomizedSearchCV(\n",
    "    pipe, params, n_jobs=-1,cv=pds,verbose=1 ,scoring=\"roc_auc\", n_iter=5)\n",
    "pipe_RF.fit(X['text_clean'].values.astype('U'),y)\n",
    "\n",
    "print('best Parameters {}'.format(pipe_RF.best_params_))\n",
    "print('best score ROC_AUC {}'.format(pipe_RF.best_score_))\n"
   ]
  },
  {
   "cell_type": "markdown",
   "metadata": {
    "id": "bEgfPgmMFAL2"
   },
   "source": [
    "##### **Make submission file**"
   ]
  },
  {
   "cell_type": "code",
   "execution_count": null,
   "metadata": {
    "id": "iryj8BJvFAL3"
   },
   "outputs": [],
   "source": [
    "model=pipe_GB # for make submission\n",
    "make_submission(model,X_Test)"
   ]
  },
  {
   "cell_type": "markdown",
   "metadata": {
    "id": "faXG97YthiEL"
   },
   "source": [
    "## 4- Random Search with **XGBoost**\n",
    "\n",
    "**best score**  = 0.87545684\n",
    "\n",
    "we could try  with its hyperparameters\n",
    "\n",
    "**best hyperparameters**=\n",
    "\n",
    "\n",
    "**n_estimators**': 50\n",
    "\n",
    "**max_depth**': 100\n",
    "\n",
    "**learning_rate**':  0.03\n",
    "\n",
    "\n",
    "\n",
    "**thoughts and observations for trial 4** :\n",
    "\n",
    "I tried it out and it gives me result 87% similar to **Logistic Regreesion** but my computational resources couldn't run the random search with many hyperparameters .\n",
    "\n",
    "**Plan for trial 5**\n",
    "\n",
    "I could try another Hyperparameter with another classifier for example **Neural Network**\n",
    "  and search for best hyperparameters. \n",
    "  I guess that the accuracy will be perfect because it is deep learning,the state of the art for Machine Learning ."
   ]
  },
  {
   "cell_type": "code",
   "execution_count": null,
   "metadata": {
    "id": "YI2QNSSpjuyz"
   },
   "outputs": [
    {
     "name": "stdout",
     "output_type": "stream",
     "text": [
      "Fitting 1 folds for each of 5 candidates, totalling 5 fits\n"
     ]
    }
   ],
   "source": [
    "%%time\n",
    "# here we specify the search space\n",
    "# `__` denotes an attribute of the preceeding name\n",
    "# (e.g. my_classifier__n_estimators means the `n_estimators` param for `my_classifier`)\n",
    "# define parameter space to test # runtime 35min\n",
    "params = {\n",
    "    #Hyperparameter for TFIDFVectorizer  \n",
    "    \"tfidf__ngram_range\": [(1, 2),(1,3)], # (1, 3)\n",
    "    \"tfidf__max_df\": [0.7,0.9],    #0.3,0.5,,0.9\n",
    "    \"tfidf__min_df\": [8,10],\n",
    "    \"tfidf__analyzer\":[\"word\"],  #,\"char\"\n",
    "    \"tfidf__norm\":[\"l2\"],\n",
    "    \n",
    "#     HYPERparamets for GB\n",
    "    \"XGB__n_estimators\":[20,50],\n",
    "    \"XGB__max_depth\":[6,10],\n",
    "    \"XGB__learning_rate\":[0.03,0.1],\n",
    "    }\n",
    "    \n",
    " \n",
    "    # objective='binary:logistic'\n",
    "\n",
    "\n",
    "pipe = Pipeline([(\"tfidf\", TfidfVectorizer()),\n",
    "                 (\"XGB\", XGBClassifier(use_label_encoder=False,\n",
    "                                      eval_metric='mlogloss'))])\n",
    "\n",
    "\n",
    "\n",
    "pipe_XGB = RandomizedSearchCV(\n",
    "    pipe, params, n_jobs=-1,cv=pds,verbose=1 ,scoring=\"roc_auc\", n_iter=5)\n",
    "pipe_XGB.fit(X['text_clean'].values.astype('U'),y)\n",
    "\n",
    "print('best Parameters {}'.format(pipe_XGB.best_params_))\n",
    "print('best score ROC_AUC {}'.format(pipe_XGB.best_score_))\n"
   ]
  },
  {
   "cell_type": "markdown",
   "metadata": {
    "id": "yb3FfgQSGIRR"
   },
   "source": [
    "##### **Make submission file**"
   ]
  },
  {
   "cell_type": "code",
   "execution_count": null,
   "metadata": {
    "id": "MjmpgLnoGIRS"
   },
   "outputs": [],
   "source": [
    "model=pipe_XGB # for make submission\n",
    "make_submission(model,Test_data)"
   ]
  },
  {
   "cell_type": "markdown",
   "metadata": {
    "id": "EfnlKAsFHdAb"
   },
   "source": [
    "## 5- Random Search with **Neural Network**\n",
    "\n",
    "The best hyperparameters are :- \n",
    "**Score** = 0.868\n",
    "\n",
    "\n",
    "**'MLP__solver'**: 'adam'\n",
    "\n",
    "**'activation'** : 'tanh'\n",
    "\n",
    "\n",
    "**thoughts and observations for trial 5** :\n",
    "It gives another good results and it is simple ,It is suitable for fast deployment because it is optimized and learn fast . it chooces the Adam solver of-course because it the optimal optimizer until now.\n",
    "\n",
    "\n",
    "\n"
   ]
  },
  {
   "cell_type": "code",
   "execution_count": 49,
   "metadata": {
    "id": "3a8c6HJuHdAc"
   },
   "outputs": [],
   "source": [
    "# define parameter space to test \n",
    "from sklearn.neural_network import MLPClassifier\n",
    "\n",
    "params = {\n",
    "    #Hyperparameter for TFIDFVectorizer  \n",
    "    \"tfidf__ngram_range\": [(1, 2),(1,3)], # (1, 3)\n",
    "    \"tfidf__max_df\": [0.7,0.8],    #0.3,0.5,,0.9\n",
    "    \"tfidf__min_df\": [8,10],\n",
    "    \"tfidf__analyzer\":[\"char\",\"word\"],  #,\"char\"\n",
    "    \"tfidf__norm\":[\"l2\",\"l1\"],\n",
    "    \n",
    "#     HYPERparamets for LogReg\n",
    "    \"MLP__solver\":['adam','sgd'], \n",
    "    \"MLP__activation\":[\"relu\",\"tanh\"],     \n",
    "    \n",
    "\n",
    "}\n",
    "\n",
    "        \n",
    "\n",
    "pipe = Pipeline([(\"tfidf\", TfidfVectorizer()),\n",
    "                 (\"MLP\",MLPClassifier(random_state=2022,\n",
    "                                      hidden_layer_sizes=(12, 12, 12),\n",
    "                                      early_stopping=True,\n",
    "                                      n_iter_no_change=1))]) \n"
   ]
  },
  {
   "cell_type": "code",
   "execution_count": 50,
   "metadata": {
    "colab": {
     "base_uri": "https://localhost:8080/"
    },
    "id": "c0SzDUbRHdAc",
    "outputId": "0fa611a2-1f54-4da4-b82e-a30fde27017b"
   },
   "outputs": [
    {
     "name": "stdout",
     "output_type": "stream",
     "text": [
      "Fitting 1 folds for each of 5 candidates, totalling 5 fits\n",
      "best Parameters {'tfidf__norm': 'l2', 'tfidf__ngram_range': (1, 2), 'tfidf__min_df': 10, 'tfidf__max_df': 0.8, 'tfidf__analyzer': 'word', 'MLP__solver': 'adam', 'MLP__activation': 'tanh'}\n",
      "best score ROC_AUC 0.8685589396163849\n",
      "Wall time: 15.4 s\n"
     ]
    }
   ],
   "source": [
    "%%time\n",
    "pipe_MLP = RandomizedSearchCV(\n",
    "    pipe, params, n_jobs=-1,cv=pds,verbose=1 ,scoring=\"roc_auc\", n_iter=5)\n",
    "pipe_MLP.fit(X['text_clean'],y) #.values.astype('U')\n",
    "\n",
    "print('best Parameters {}'.format(pipe_MLP.best_params_))\n",
    "print('best score ROC_AUC {}'.format(pipe_MLP.best_score_))\n"
   ]
  },
  {
   "cell_type": "markdown",
   "metadata": {
    "id": "68XrsEbIHdAc"
   },
   "source": [
    "##### **Make submission file**"
   ]
  },
  {
   "cell_type": "code",
   "execution_count": null,
   "metadata": {
    "id": "h99nQWzkHdAc"
   },
   "outputs": [],
   "source": [
    "model=pipe_MLP # for make submission\n",
    "make_submission(model,X_Test)"
   ]
  },
  {
   "cell_type": "markdown",
   "metadata": {
    "id": "m0RJjFQeusrn"
   },
   "source": [
    "# Finally the best model is **Logistic Regression** \n"
   ]
  },
  {
   "cell_type": "markdown",
   "metadata": {
    "id": "J1o6ifwTQK4N"
   },
   "source": [
    "# َQuestions "
   ]
  },
  {
   "cell_type": "markdown",
   "metadata": {
    "id": "76BwssTEQOdE"
   },
   "source": [
    "**1-  What is the difference between Character n-gram and Word n-gram? Which one tends to suffer more from the OOV issue?**\n",
    "\n",
    "\n",
    "* An n-gram model is a technique of counting sequences of ( characters or words) that allows us to support rich pattern discovery in text.\n",
    "\n",
    "* Character n-gram :     \n",
    "\n",
    "it is a sequence of characters  like (A - H - K)\n",
    "\n",
    "* word n-gram :     \n",
    "\n",
    "It is a sequence of words like (play - walk up )\n",
    "\n",
    "\n",
    " word n-gram suffer more for OOV\n",
    " \n",
    "Ref : \n",
    "STACC, OOVDensity and N-gram Saturation: Vicomtech’s Participation in the WMT2018Shared Task on Parallel Corpus Filtering\n",
    "1- https://aclanthology.org/W18-6473.pdf\n",
    "\n",
    "2- https://web.stanford.edu/~jurafsky/slp3/3.pdf"
   ]
  },
  {
   "cell_type": "markdown",
   "metadata": {
    "id": "z3rK58mMY-WN"
   },
   "source": [
    "**2- What is the difference between stop word removal and stemming? Are these techniques language-dependent?**\n",
    "\n",
    "* **stop word** :     \n",
    "\n",
    "They are a lot of vocabulary don't have any effect on the meaning and repeated,So we removed the from the text.\n",
    "\n",
    " these words are filtered out from search queries because\n",
    "  they return a vast amount of unnecessary information.\n",
    "\n",
    "* **Stemming** : \n",
    "\n",
    "it returns the word to its root ,a stemming algorithm reduces the words “chocolates”, “chocolatey”, “choco” to the root word, “chocolate”\n",
    "\n",
    "* They are language-dependent"
   ]
  },
  {
   "cell_type": "markdown",
   "metadata": {
    "id": "MVaIkjijY_91"
   },
   "source": [
    "**3-Is tokenization techniques language dependent? Why?**\n",
    "\n",
    "* No , Beacuse it split every word or character as type (string) independent of input languages .\n",
    "\n",
    "* Like Function ( **is.alpha()** ) return bool value if the string if totally alphabetic [A-Za-z]"
   ]
  },
  {
   "cell_type": "markdown",
   "metadata": {
    "id": "hw7jpME0ZFAD"
   },
   "source": [
    "**4-What is the difference between count vectorizer and tf-idf vectorizer? Would it be feasible to use all possible n-grams? If not, how should you select them?**\n",
    "\n",
    "**Count Vectorizers**\n",
    "\n",
    "Count Vectorizer is a way to convert a given set of strings into a frequency representation.\n",
    "\n",
    "Count Vectors can be helpful in understanding the type of text by the frequency of words in it. But its major disadvantages are:\n",
    "\n",
    "** Its inability in identifying more important and less important words for analysis.\n",
    "** It will just consider words that are abundant in a corpus as the most statistically significant word.\n",
    "** It also doesn't identify the relationships between words such as linguistic similarity between words.\n",
    "\n",
    "**TF-IDF:**\n",
    "\n",
    "TF-IDF means Term Frequency - Inverse Document Frequency. This is a statistic that is based on the frequency of a word in the corpus but it also provides a numerical representation of how important a word is for statistical analysis.\n",
    "\n",
    "TF-IDF is better than Count Vectorizers because it not only focuses on the frequency of words present in the corpus but also provides the importance of the words. We can then remove the words that are less important for analysis, hence making the model building less complex by reducing the input dimensions.\n",
    "\n",
    "It would not be able to use all n-grams, but we could select them with random search to get best score ."
   ]
  }
 ],
 "metadata": {
  "colab": {
   "collapsed_sections": [
    "gpAcqd7nh3zd",
    "20ee0d9a",
    "b415026b",
    "SSdC6PZ9qmtC",
    "3D7vqUMp42UR",
    "5Zh2sYv5SSND",
    "pOLBd5cmQDGn",
    "qjD-SqHRR8hr",
    "dyq2Ny_AMoaL",
    "at0NYZpunWze",
    "9OBGxxu6oX3E",
    "1WjXNfL6o1oz",
    "dDRHo_qB-DAR",
    "_wsM_ZDEo-pr",
    "_n-1IbJZe6CB",
    "Xzg1R35Kplcs",
    "9znVSJw8p1Q9",
    "B9U07Oi08oSw",
    "sl1duc_m8oSw",
    "KK9hgyRBAIbh",
    "sF_Mj5lxciCK",
    "FxU8g_4gEppu",
    "MnW9gnSTA2Qg",
    "3lLHmS6vE8fQ",
    "Ac0f5LIcf6n3",
    "bEgfPgmMFAL2",
    "faXG97YthiEL",
    "yb3FfgQSGIRR",
    "EfnlKAsFHdAb",
    "68XrsEbIHdAc",
    "qpzMVwK9ooLg",
    "m0RJjFQeusrn"
   ],
   "name": "Ass3_Fake_Reddit_Prediction.ipynb",
   "provenance": []
  },
  "kernelspec": {
   "display_name": "Python 3 (ipykernel)",
   "language": "python",
   "name": "python3"
  },
  "language_info": {
   "codemirror_mode": {
    "name": "ipython",
    "version": 3
   },
   "file_extension": ".py",
   "mimetype": "text/x-python",
   "name": "python",
   "nbconvert_exporter": "python",
   "pygments_lexer": "ipython3",
   "version": "3.9.7"
  }
 },
 "nbformat": 4,
 "nbformat_minor": 4
}
